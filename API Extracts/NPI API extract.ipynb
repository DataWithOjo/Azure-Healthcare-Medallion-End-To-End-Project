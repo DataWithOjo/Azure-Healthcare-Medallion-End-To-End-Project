{
 "cells": [
  {
   "cell_type": "code",
   "execution_count": 0,
   "metadata": {
    "application/vnd.databricks.v1+cell": {
     "cellMetadata": {
      "byteLimit": 2048000,
      "rowLimit": 10000
     },
     "inputWidgets": {},
     "nuid": "d47b7d47-c262-4354-a86d-d031db1b0eb6",
     "showTitle": false,
     "tableResultSettingsMap": {},
     "title": ""
    }
   },
   "outputs": [],
   "source": [
    "import requests\n",
    "from datetime import datetime\n",
    "from time import sleep"
   ]
  },
  {
   "cell_type": "code",
   "execution_count": 0,
   "metadata": {
    "application/vnd.databricks.v1+cell": {
     "cellMetadata": {
      "byteLimit": 2048000,
      "rowLimit": 10000
     },
     "inputWidgets": {},
     "nuid": "398fdfa5-892b-4705-8034-ebc93c10d5d3",
     "showTitle": false,
     "tableResultSettingsMap": {},
     "title": ""
    }
   },
   "outputs": [],
   "source": [
    "# PARAMS\n",
    "base_url = \"https://npiregistry.cms.hhs.gov/api/\"\n",
    "current_date = datetime.utcnow().isoformat()\n",
    "\n",
    "params = {\n",
    "    \"version\": \"2.1\",\n",
    "    \"state\": \"CA\",\n",
    "    \"city\": \"Los Angeles\",\n",
    "    \"limit\": 20\n",
    "}"
   ]
  },
  {
   "cell_type": "code",
   "execution_count": 0,
   "metadata": {
    "application/vnd.databricks.v1+cell": {
     "cellMetadata": {
      "byteLimit": 2048000,
      "rowLimit": 10000
     },
     "inputWidgets": {},
     "nuid": "174328e1-b127-4769-8107-c8c01c31cbb4",
     "showTitle": false,
     "tableResultSettingsMap": {},
     "title": ""
    }
   },
   "outputs": [],
   "source": [
    "# Call NPI API\n",
    "response = requests.get(base_url, params=params)\n",
    "\n",
    "if response.status_code == 200:\n",
    "    npi_data = response.json()\n",
    "    npi_list = [result.get(\"number\") for result in npi_data.get(\"results\", [])]\n",
    "\n",
    "    detailed_results = []\n",
    "\n",
    "    for npi in npi_list:\n",
    "        detail_params = {\"version\": \"2.1\", \"number\": npi}\n",
    "        detail_response = requests.get(base_url, params=detail_params)\n",
    "\n",
    "        if detail_response.status_code == 200:\n",
    "            detail_data = detail_response.json()\n",
    "\n",
    "            for result in detail_data.get(\"results\", []):\n",
    "                npi_number = result.get(\"number\")\n",
    "                basic_info = result.get(\"basic\", {})\n",
    "                enumeration_type = result.get(\"enumeration_type\", \"\")\n",
    "\n",
    "                if enumeration_type == \"NPI-1\":\n",
    "                    fname = basic_info.get(\"first_name\", \"\")\n",
    "                    lname = basic_info.get(\"last_name\", \"\")\n",
    "                else:\n",
    "                    fname = basic_info.get(\"authorized_official_first_name\", \"\")\n",
    "                    lname = basic_info.get(\"authorized_official_last_name\", \"\")\n",
    "\n",
    "                position = basic_info.get(\"authorized_official_title_or_position\", \"\")\n",
    "                organisation = basic_info.get(\"organization_name\", \"\")\n",
    "                last_updated = basic_info.get(\"last_updated\", \"\")\n",
    "\n",
    "                # Define Schema\n",
    "                detailed_results.append({\n",
    "                    \"npi_id\": npi_number,\n",
    "                    \"first_name\": fname,\n",
    "                    \"last_name\": lname,\n",
    "                    \"position\": position,\n",
    "                    \"organisation_name\": organisation,\n",
    "                    \"last_updated\": last_updated,\n",
    "                    \"refreshed_at\": current_date,\n",
    "                })\n",
    "\n",
    "        else:\n",
    "            print(f\"Failed to fetch details for NPI {npi}\")\n",
    "            sleep(1)\n",
    "    # Write and save data\n",
    "    if detailed_results:\n",
    "        df = spark.createDataFrame(detailed_results)\n",
    "\n",
    "        adls_path = \"abfss://bronze@databricksdevetl.dfs.core.windows.net/npi_extract/\"\n",
    "\n",
    "        # Save as Parquet to external storage\n",
    "        df.write.format(\"parquet\").mode(\"overwrite\").save(adls_path)\n",
    "\n",
    "        # Save as Delta table\n",
    "        df.write.format(\"delta\").mode(\"overwrite\").saveAsTable(\"databricks_dev.bronze.npi_extract\")\n",
    "\n",
    "        print(\"Data saved successfully.\")\n",
    "    else:\n",
    "        print(\"No detailed results found.\")\n",
    "else:\n",
    "    print(f\"Initial fetch failed: {response.status_code} - {response.text}\")"
   ]
  },
  {
   "cell_type": "code",
   "execution_count": 0,
   "metadata": {
    "application/vnd.databricks.v1+cell": {
     "cellMetadata": {
      "byteLimit": 2048000,
      "implicitDf": true,
      "rowLimit": 10000
     },
     "inputWidgets": {},
     "nuid": "0566f994-d2fb-4bd4-a946-e66ca6c963dc",
     "showTitle": false,
     "tableResultSettingsMap": {},
     "title": ""
    }
   },
   "outputs": [],
   "source": [
    "%sql\n",
    "select * from databricks_dev.bronze.npi_extract;"
   ]
  },
  {
   "cell_type": "code",
   "execution_count": 0,
   "metadata": {
    "application/vnd.databricks.v1+cell": {
     "cellMetadata": {},
     "inputWidgets": {},
     "nuid": "13630c4b-3cb6-428e-ae19-dfc2b65c3416",
     "showTitle": false,
     "tableResultSettingsMap": {},
     "title": ""
    }
   },
   "outputs": [],
   "source": []
  }
 ],
 "metadata": {
  "application/vnd.databricks.v1+notebook": {
   "computePreferences": null,
   "dashboards": [],
   "environmentMetadata": {
    "base_environment": "",
    "environment_version": "2"
   },
   "inputWidgetPreferences": null,
   "language": "python",
   "notebookMetadata": {
    "mostRecentlyExecutedCommandWithImplicitDF": {
     "commandId": 6576676807206824,
     "dataframes": [
      "_sqldf"
     ]
    },
    "pythonIndentUnit": 4
   },
   "notebookName": "NPI API extract",
   "widgets": {}
  },
  "language_info": {
   "name": "python"
  }
 },
 "nbformat": 4,
 "nbformat_minor": 0
}
