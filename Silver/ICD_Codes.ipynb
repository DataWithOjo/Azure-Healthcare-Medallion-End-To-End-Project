{
 "cells": [
  {
   "cell_type": "code",
   "execution_count": 0,
   "metadata": {
    "application/vnd.databricks.v1+cell": {
     "cellMetadata": {
      "byteLimit": 2048000,
      "rowLimit": 10000
     },
     "inputWidgets": {},
     "nuid": "1b8b813d-a1af-4f6f-8427-5e4c893f48f6",
     "showTitle": false,
     "tableResultSettingsMap": {},
     "title": ""
    }
   },
   "outputs": [],
   "source": [
    "from pyspark.sql.functions import *\n",
    "\n",
    "# Read the icd_codes file from bronze\n",
    "icd_codes_df = spark.read.parquet(\"abfss://bronze@databricksdevetl.dfs.core.windows.net/icd_codes/\")\n",
    "\n",
    "icd_codes_df.createOrReplaceTempView(\"icd_codes\")\n",
    "display(icd_codes_df)"
   ]
  },
  {
   "cell_type": "code",
   "execution_count": 0,
   "metadata": {
    "application/vnd.databricks.v1+cell": {
     "cellMetadata": {
      "byteLimit": 2048000,
      "implicitDf": true,
      "rowLimit": 10000
     },
     "inputWidgets": {},
     "nuid": "bfd027d8-3dfc-4f43-95e3-f5fbf76ffd02",
     "showTitle": false,
     "tableResultSettingsMap": {},
     "title": ""
    }
   },
   "outputs": [],
   "source": [
    "%sql\n",
    "CREATE TABLE IF NOT EXISTS databricks_dev.silver.icd_codes (\n",
    "    icd_code STRING,\n",
    "    icd_code_type STRING,\n",
    "    code_description STRING,\n",
    "    inserted_date DATE,\n",
    "    updated_date DATE,\n",
    "    is_current_flag BOOLEAN\n",
    ")"
   ]
  },
  {
   "cell_type": "code",
   "execution_count": 0,
   "metadata": {
    "application/vnd.databricks.v1+cell": {
     "cellMetadata": {
      "byteLimit": 2048000,
      "implicitDf": true,
      "rowLimit": 10000
     },
     "inputWidgets": {},
     "nuid": "5e0e8447-93f2-4718-af2d-889dab4a1b82",
     "showTitle": false,
     "tableResultSettingsMap": {},
     "title": ""
    }
   },
   "outputs": [],
   "source": [
    "%sql\n",
    "MERGE INTO\n",
    "  databricks_dev.silver.icd_codes AS target\n",
    "USING\n",
    "  icd_codes AS source\n",
    "ON target.icd_code = source.icd_code\n",
    "WHEN MATCHED AND\n",
    "  target.code_description != source.code_description\n",
    "  THEN UPDATE SET\n",
    "  target.code_description = source.code_description,\n",
    "  target.updated_date = source.updated_date,\n",
    "  target.is_current_flag = False\n",
    "WHEN NOT MATCHED THEN INSERT (\n",
    "    icd_code, icd_code_type, code_description, inserted_date, updated_date, is_current_flag\n",
    "  )\n",
    "  VALUES (\n",
    "    source.icd_code,\n",
    "    source.icd_code_type,\n",
    "    source.code_description,\n",
    "    source.inserted_date,\n",
    "    source.updated_date,\n",
    "    source.is_current_flag\n",
    "  )"
   ]
  },
  {
   "cell_type": "code",
   "execution_count": 0,
   "metadata": {
    "application/vnd.databricks.v1+cell": {
     "cellMetadata": {
      "byteLimit": 2048000,
      "implicitDf": true,
      "rowLimit": 10000
     },
     "inputWidgets": {},
     "nuid": "351b7382-920f-4281-905c-79f6e9c92866",
     "showTitle": false,
     "tableResultSettingsMap": {},
     "title": ""
    }
   },
   "outputs": [],
   "source": [
    "%sql\n",
    "SELECT * FROM databricks_dev.silver.icd_codes;"
   ]
  },
  {
   "cell_type": "code",
   "execution_count": 0,
   "metadata": {
    "application/vnd.databricks.v1+cell": {
     "cellMetadata": {},
     "inputWidgets": {},
     "nuid": "ec425d30-d336-4011-917e-eb46bd625897",
     "showTitle": false,
     "tableResultSettingsMap": {},
     "title": ""
    }
   },
   "outputs": [],
   "source": []
  }
 ],
 "metadata": {
  "application/vnd.databricks.v1+notebook": {
   "computePreferences": null,
   "dashboards": [],
   "environmentMetadata": {
    "base_environment": "",
    "environment_version": "2"
   },
   "inputWidgetPreferences": null,
   "language": "python",
   "notebookMetadata": {
    "mostRecentlyExecutedCommandWithImplicitDF": {
     "commandId": 8308488011930108,
     "dataframes": [
      "_sqldf"
     ]
    },
    "pythonIndentUnit": 4
   },
   "notebookName": "ICD_Codes",
   "widgets": {}
  },
  "language_info": {
   "name": "python"
  }
 },
 "nbformat": 4,
 "nbformat_minor": 0
}
