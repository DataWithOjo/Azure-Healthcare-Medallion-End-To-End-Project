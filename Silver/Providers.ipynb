{
 "cells": [
  {
   "cell_type": "code",
   "execution_count": 0,
   "metadata": {
    "application/vnd.databricks.v1+cell": {
     "cellMetadata": {
      "byteLimit": 2048000,
      "rowLimit": 10000
     },
     "inputWidgets": {},
     "nuid": "358af861-e5d6-4a30-9211-3dbca9e34740",
     "showTitle": false,
     "tableResultSettingsMap": {},
     "title": ""
    }
   },
   "outputs": [],
   "source": [
    "from pyspark.sql.functions import *\n",
    "\n",
    "#Reading Hospital A providers data \n",
    "df_hosa=spark.read.parquet(\"abfss://bronze@databricksdevetl.dfs.core.windows.net/hosa/providers\")\n",
    "\n",
    "#Reading Hospital B providers data \n",
    "df_hosb=spark.read.parquet(\"abfss://bronze@databricksdevetl.dfs.core.windows.net/hosb/providers\")\n",
    "\n",
    "#union two hospitals dataframes\n",
    "df_merged = df_hosa.unionByName(df_hosb)\n",
    "display(df_merged)\n",
    "\n",
    "df_merged.createOrReplaceTempView(\"providers\")"
   ]
  },
  {
   "cell_type": "code",
   "execution_count": 0,
   "metadata": {
    "application/vnd.databricks.v1+cell": {
     "cellMetadata": {
      "byteLimit": 2048000,
      "implicitDf": true,
      "rowLimit": 10000
     },
     "inputWidgets": {},
     "nuid": "7e3fae47-c957-4f49-9abe-b341fc73749d",
     "showTitle": false,
     "tableResultSettingsMap": {},
     "title": ""
    }
   },
   "outputs": [],
   "source": [
    "%sql\n",
    "CREATE TABLE IF NOT EXISTS databricks_dev.silver.providers (\n",
    "  ProviderID string,\n",
    "  FirstName string,\n",
    "  LastName string,\n",
    "  Specialization string,\n",
    "  DeptID string,\n",
    "  NPI long,\n",
    "  datasource string,\n",
    "  is_quarantined boolean\n",
    ")\n",
    "USING DELTA;"
   ]
  },
  {
   "cell_type": "code",
   "execution_count": 0,
   "metadata": {
    "application/vnd.databricks.v1+cell": {
     "cellMetadata": {
      "byteLimit": 2048000,
      "implicitDf": true,
      "rowLimit": 10000
     },
     "inputWidgets": {},
     "nuid": "f1d47500-649b-4fe2-9bfc-80b382ce62c3",
     "showTitle": false,
     "tableResultSettingsMap": {},
     "title": ""
    }
   },
   "outputs": [],
   "source": [
    "%sql\n",
    "TRUNCATE TABLE databricks_dev.silver.providers;"
   ]
  },
  {
   "cell_type": "code",
   "execution_count": 0,
   "metadata": {
    "application/vnd.databricks.v1+cell": {
     "cellMetadata": {
      "byteLimit": 2048000,
      "implicitDf": true,
      "rowLimit": 10000
     },
     "inputWidgets": {},
     "nuid": "a3923a50-ef98-4ca9-bc4d-782693019251",
     "showTitle": false,
     "tableResultSettingsMap": {},
     "title": ""
    }
   },
   "outputs": [],
   "source": [
    "%sql \n",
    "INSERT INTO TABLE databricks_dev.silver.providers\n",
    "SELECT DISTINCT\n",
    "  ProviderID,\n",
    "  FirstName,\n",
    "  LastName,\n",
    "  Specialization,\n",
    "  DeptID,\n",
    "  try_cast(NPI as INT) NPI,\n",
    "  datasource,\n",
    "      CASE \n",
    "          WHEN ProviderID IS NULL OR DeptID IS NULL THEN TRUE\n",
    "          ELSE FALSE\n",
    "      END AS is_quarantined\n",
    "FROM providers;"
   ]
  },
  {
   "cell_type": "code",
   "execution_count": 0,
   "metadata": {
    "application/vnd.databricks.v1+cell": {
     "cellMetadata": {
      "byteLimit": 2048000,
      "implicitDf": true,
      "rowLimit": 10000
     },
     "inputWidgets": {},
     "nuid": "ba86f702-e7e6-410e-a5dd-752a8b953ddc",
     "showTitle": false,
     "tableResultSettingsMap": {},
     "title": ""
    }
   },
   "outputs": [],
   "source": [
    "%sql\n",
    "SELECT * FROM providers;"
   ]
  },
  {
   "cell_type": "code",
   "execution_count": 0,
   "metadata": {
    "application/vnd.databricks.v1+cell": {
     "cellMetadata": {},
     "inputWidgets": {},
     "nuid": "a4b942e6-85d5-4343-8ac8-63eac859e19e",
     "showTitle": false,
     "tableResultSettingsMap": {},
     "title": ""
    }
   },
   "outputs": [],
   "source": []
  }
 ],
 "metadata": {
  "application/vnd.databricks.v1+notebook": {
   "computePreferences": null,
   "dashboards": [],
   "environmentMetadata": {
    "base_environment": "",
    "environment_version": "2"
   },
   "inputWidgetPreferences": null,
   "language": "python",
   "notebookMetadata": {
    "mostRecentlyExecutedCommandWithImplicitDF": {
     "commandId": 4906016214400535,
     "dataframes": [
      "_sqldf"
     ]
    },
    "pythonIndentUnit": 4
   },
   "notebookName": "Providers",
   "widgets": {}
  },
  "language_info": {
   "name": "python"
  }
 },
 "nbformat": 4,
 "nbformat_minor": 0
}
