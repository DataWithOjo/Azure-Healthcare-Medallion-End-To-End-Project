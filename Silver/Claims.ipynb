{
 "cells": [
  {
   "cell_type": "code",
   "execution_count": 0,
   "metadata": {
    "application/vnd.databricks.v1+cell": {
     "cellMetadata": {
      "byteLimit": 2048000,
      "rowLimit": 10000
     },
     "inputWidgets": {},
     "nuid": "8ca64895-3eb8-468d-87bc-1c2ea311bd9a",
     "showTitle": false,
     "tableResultSettingsMap": {},
     "title": ""
    }
   },
   "outputs": [],
   "source": [
    "from pyspark.sql.functions import *\n",
    "\n",
    "# Read claims files from bronze\n",
    "claims_df = spark.read.parquet(\n",
    "    \"abfss://bronze@databricksdevetl.dfs.core.windows.net/claims/\")\n",
    "\n",
    "display(claims_df)\n",
    "\n",
    "claims_df.createOrReplaceTempView(\"claims\")"
   ]
  },
  {
   "cell_type": "code",
   "execution_count": 0,
   "metadata": {
    "application/vnd.databricks.v1+cell": {
     "cellMetadata": {
      "byteLimit": 2048000,
      "implicitDf": true,
      "rowLimit": 10000
     },
     "inputWidgets": {},
     "nuid": "3ab2f850-aef2-4ede-b2d3-6ac7dc7c1575",
     "showTitle": false,
     "tableResultSettingsMap": {},
     "title": ""
    }
   },
   "outputs": [],
   "source": [
    "%sql\n",
    "CREATE OR REPLACE TEMP VIEW quality_checks AS\n",
    "SELECT \n",
    "  CONCAT(ClaimID,'-', datasource) AS ClaimID,\n",
    "  ClaimID AS  SRC_ClaimID,\n",
    "  TransactionID,\n",
    "  PatientID,\n",
    "  EncounterID,\n",
    "  ProviderID,\n",
    "  DeptID,\n",
    "  cast(ServiceDate as date) ServiceDate,\n",
    "  cast(ClaimDate as date) ClaimDate,\n",
    "  PayorID,\n",
    "  round(cast(ClaimAmount as double), 2) ClaimAmount,\n",
    "  round(cast(PaidAmount as double), 2) PaidAmount,\n",
    "  ClaimStatus,\n",
    "  PayorType,\n",
    "  round(cast(Deductible as double), 2) Deductible,\n",
    "  round(cast(Coinsurance as double), 2) Coinsurance,\n",
    "  round(cast(Copay as double), 2) Copay,\n",
    "  cast(InsertDate as date) as SRC_InsertDate,\n",
    "  cast(ModifiedDate as date) as SRC_ModifiedDate,\n",
    "  datasource,\n",
    "    CASE \n",
    "        WHEN ClaimID IS NULL OR TransactionID IS NULL OR PatientID IS NULL or ServiceDate IS NULL THEN TRUE\n",
    "        ELSE FALSE\n",
    "    END AS is_quarantined\n",
    "FROM claims"
   ]
  },
  {
   "cell_type": "code",
   "execution_count": 0,
   "metadata": {
    "application/vnd.databricks.v1+cell": {
     "cellMetadata": {
      "byteLimit": 2048000,
      "implicitDf": true,
      "rowLimit": 10000
     },
     "inputWidgets": {},
     "nuid": "8a6bd540-e81f-4268-8842-c1014152f566",
     "showTitle": false,
     "tableResultSettingsMap": {},
     "title": ""
    }
   },
   "outputs": [],
   "source": [
    "%sql\n",
    "SELECT * FROM quality_checks;"
   ]
  },
  {
   "cell_type": "code",
   "execution_count": 0,
   "metadata": {
    "application/vnd.databricks.v1+cell": {
     "cellMetadata": {
      "byteLimit": 2048000,
      "implicitDf": true,
      "rowLimit": 10000
     },
     "inputWidgets": {},
     "nuid": "2bb54630-189f-46a2-a6ff-eb77009138da",
     "showTitle": false,
     "tableResultSettingsMap": {},
     "title": ""
    }
   },
   "outputs": [],
   "source": [
    "%sql\n",
    "CREATE TABLE IF NOT EXISTS databricks_dev.silver.claims (\n",
    "ClaimID string,\n",
    "SRC_ClaimID string,\n",
    "TransactionID string,\n",
    "PatientID string,\n",
    "EncounterID string,\n",
    "ProviderID string,\n",
    "DeptID string,\n",
    "ServiceDate date,\n",
    "ClaimDate date,\n",
    "PayorID string,\n",
    "ClaimAmount double,\n",
    "PaidAmount double,\n",
    "ClaimStatus string,\n",
    "PayorType string,\n",
    "Deductible double,\n",
    "Coinsurance double,\n",
    "Copay double,\n",
    "SRC_InsertDate date,\n",
    "SRC_ModifiedDate date,\n",
    "datasource string,\n",
    "is_quarantined boolean,\n",
    "audit_insertdate timestamp,\n",
    "audit_modifieddate timestamp,\n",
    "is_current boolean\n",
    ")\n",
    "USING DELTA;"
   ]
  },
  {
   "cell_type": "code",
   "execution_count": 0,
   "metadata": {
    "application/vnd.databricks.v1+cell": {
     "cellMetadata": {
      "byteLimit": 2048000,
      "implicitDf": true,
      "rowLimit": 10000
     },
     "inputWidgets": {},
     "nuid": "2faf87b5-3a4c-4666-b044-51e32cab461c",
     "showTitle": false,
     "tableResultSettingsMap": {},
     "title": ""
    }
   },
   "outputs": [],
   "source": [
    "%sql\n",
    "-- Update old record to implement SCD Type 2\n",
    "MERGE INTO databricks_dev.silver.claims AS target\n",
    "USING quality_checks AS source\n",
    "ON target.ClaimID = source.ClaimID \n",
    "AND target.is_current = true\n",
    "WHEN MATCHED AND (\n",
    "    target.SRC_ClaimID != source.SRC_ClaimID OR\n",
    "    target.TransactionID != source.TransactionID OR\n",
    "    target.PatientID != source.PatientID OR\n",
    "    target.EncounterID != source.EncounterID OR\n",
    "    target.ProviderID != source.ProviderID OR\n",
    "    target.DeptID != source.DeptID OR\n",
    "    target.ServiceDate != source.ServiceDate OR\n",
    "    target.ClaimDate != source.ClaimDate OR\n",
    "    target.PayorID != source.PayorID OR\n",
    "    target.ClaimAmount != source.ClaimAmount OR\n",
    "    target.PaidAmount != source.PaidAmount OR\n",
    "    target.ClaimStatus != source.ClaimStatus OR\n",
    "    target.PayorType != source.PayorType OR\n",
    "    target.Deductible != source.Deductible OR\n",
    "    target.Coinsurance != source.Coinsurance OR\n",
    "    target.Copay != source.Copay OR\n",
    "    target.SRC_InsertDate != source.SRC_InsertDate OR\n",
    "    target.SRC_ModifiedDate != source.SRC_ModifiedDate OR\n",
    "    target.datasource != source.datasource OR\n",
    "    target.is_quarantined != source.is_quarantined\n",
    ") THEN\n",
    "  UPDATE SET\n",
    "    target.is_current = false,\n",
    "    target.audit_modifieddate = current_timestamp()"
   ]
  },
  {
   "cell_type": "code",
   "execution_count": 0,
   "metadata": {
    "application/vnd.databricks.v1+cell": {
     "cellMetadata": {
      "byteLimit": 2048000,
      "implicitDf": true,
      "rowLimit": 10000
     },
     "inputWidgets": {},
     "nuid": "4d0fde04-1481-4eab-91ca-7d2aaf3acde9",
     "showTitle": false,
     "tableResultSettingsMap": {},
     "title": ""
    }
   },
   "outputs": [],
   "source": [
    "%sql\n",
    "-- Insert new record to implement SCD Type 2\n",
    "MERGE INTO databricks_dev.silver.claims AS target\n",
    "USING quality_checks AS source\n",
    "ON target.ClaimID = source.ClaimID \n",
    "AND target.is_current = true\n",
    "WHEN NOT MATCHED THEN\n",
    "  INSERT (\n",
    "    ClaimID,\n",
    "    SRC_ClaimID,\n",
    "    TransactionID,\n",
    "    PatientID,\n",
    "    EncounterID,\n",
    "    ProviderID,\n",
    "    DeptID,\n",
    "    ServiceDate,\n",
    "    ClaimDate,\n",
    "    PayorID,\n",
    "    ClaimAmount,\n",
    "    PaidAmount,\n",
    "    ClaimStatus,\n",
    "    PayorType,\n",
    "    Deductible,\n",
    "    Coinsurance,\n",
    "    Copay,\n",
    "    SRC_InsertDate,\n",
    "    SRC_ModifiedDate,\n",
    "    datasource,\n",
    "    is_quarantined,\n",
    "    audit_insertdate,\n",
    "    audit_modifieddate,\n",
    "    is_current\n",
    "  )\n",
    "  VALUES (\n",
    "    source.ClaimID,\n",
    "    source.SRC_ClaimID,\n",
    "    source.TransactionID,\n",
    "    source.PatientID,\n",
    "    source.EncounterID,\n",
    "    source.ProviderID,\n",
    "    source.DeptID,\n",
    "    source.ServiceDate,\n",
    "    source.ClaimDate,\n",
    "    source.PayorID,\n",
    "    source.ClaimAmount,\n",
    "    source.PaidAmount,\n",
    "    source.ClaimStatus,\n",
    "    source.PayorType,\n",
    "    source.Deductible,\n",
    "    source.Coinsurance,\n",
    "    source.Copay,\n",
    "    source.SRC_InsertDate,\n",
    "    source.SRC_ModifiedDate,\n",
    "    source.datasource,\n",
    "    source.is_quarantined,\n",
    "    current_timestamp(),\n",
    "    current_timestamp(),\n",
    "    true\n",
    "  );"
   ]
  },
  {
   "cell_type": "code",
   "execution_count": 0,
   "metadata": {
    "application/vnd.databricks.v1+cell": {
     "cellMetadata": {
      "byteLimit": 2048000,
      "implicitDf": true,
      "rowLimit": 10000
     },
     "inputWidgets": {},
     "nuid": "3a9f62df-e9e1-41f2-bbff-d2d8ac1e9864",
     "showTitle": false,
     "tableResultSettingsMap": {},
     "title": ""
    }
   },
   "outputs": [],
   "source": [
    "%sql\n",
    "SELECT * FROM databricks_dev.silver.claims;"
   ]
  },
  {
   "cell_type": "code",
   "execution_count": 0,
   "metadata": {
    "application/vnd.databricks.v1+cell": {
     "cellMetadata": {},
     "inputWidgets": {},
     "nuid": "8bcee4d7-5fce-498a-a42d-d0aa00291ddf",
     "showTitle": false,
     "tableResultSettingsMap": {},
     "title": ""
    }
   },
   "outputs": [],
   "source": []
  }
 ],
 "metadata": {
  "application/vnd.databricks.v1+notebook": {
   "computePreferences": null,
   "dashboards": [],
   "environmentMetadata": {
    "base_environment": "",
    "environment_version": "2"
   },
   "inputWidgetPreferences": null,
   "language": "python",
   "notebookMetadata": {
    "mostRecentlyExecutedCommandWithImplicitDF": {
     "commandId": 4906016214400565,
     "dataframes": [
      "_sqldf"
     ]
    },
    "pythonIndentUnit": 4
   },
   "notebookName": "Claims",
   "widgets": {}
  },
  "language_info": {
   "name": "python"
  }
 },
 "nbformat": 4,
 "nbformat_minor": 0
}
