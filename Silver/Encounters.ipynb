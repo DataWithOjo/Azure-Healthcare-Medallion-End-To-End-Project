{
 "cells": [
  {
   "cell_type": "code",
   "execution_count": 0,
   "metadata": {
    "application/vnd.databricks.v1+cell": {
     "cellMetadata": {
      "byteLimit": 2048000,
      "implicitDf": true,
      "rowLimit": 10000
     },
     "inputWidgets": {},
     "nuid": "6006b241-52c2-4d2a-85e5-c16d2613b741",
     "showTitle": false,
     "tableResultSettingsMap": {},
     "title": ""
    }
   },
   "outputs": [],
   "source": [
    "%sql\n",
    "-- Create temporary views for the parquet files\n",
    "CREATE OR REPLACE TEMP VIEW hosa_encounters\n",
    "USING parquet\n",
    "OPTIONS (\n",
    "  path \"abfss://bronze@databricksdevetl.dfs.core.windows.net/hosa/encounters\"\n",
    ");\n",
    "\n",
    "CREATE OR REPLACE TEMP VIEW hosb_encounters\n",
    "USING parquet\n",
    "OPTIONS (\n",
    "  path \"abfss://bronze@databricksdevetl.dfs.core.windows.net/hosb/encounters\"\n",
    ");\n",
    "\n",
    "-- Union the two views\n",
    "CREATE OR REPLACE TEMP VIEW encounters AS\n",
    "SELECT * FROM hosa_encounters\n",
    "UNION ALL\n",
    "SELECT * FROM hosb_encounters;\n",
    "\n",
    "-- Display the merged data\n",
    "SELECT * FROM encounters;"
   ]
  },
  {
   "cell_type": "code",
   "execution_count": 0,
   "metadata": {
    "application/vnd.databricks.v1+cell": {
     "cellMetadata": {
      "byteLimit": 2048000,
      "implicitDf": true,
      "rowLimit": 10000
     },
     "inputWidgets": {},
     "nuid": "853a7155-2c3f-4c1e-9e50-0af433d4541a",
     "showTitle": false,
     "tableResultSettingsMap": {},
     "title": ""
    }
   },
   "outputs": [],
   "source": [
    "%sql\n",
    "CREATE OR REPLACE TEMP VIEW quality_checks AS\n",
    "SELECT \n",
    "concat(EncounterID,'-',datasource) as EncounterID,\n",
    "EncounterID SRC_EncounterID,\n",
    "PatientID,\n",
    "EncounterDate,\n",
    "EncounterType,\n",
    "ProviderID,\n",
    "DepartmentID,\n",
    "ProcedureCode,\n",
    "InsertedDate as SRC_InsertedDate,\n",
    "ModifiedDate as SRC_ModifiedDate,\n",
    "datasource,\n",
    "    CASE \n",
    "        WHEN EncounterID IS NULL OR PatientID IS NULL THEN TRUE\n",
    "        ELSE FALSE\n",
    "    END AS is_quarantined\n",
    "FROM encounters"
   ]
  },
  {
   "cell_type": "code",
   "execution_count": 0,
   "metadata": {
    "application/vnd.databricks.v1+cell": {
     "cellMetadata": {
      "byteLimit": 2048000,
      "implicitDf": true,
      "rowLimit": 10000
     },
     "inputWidgets": {},
     "nuid": "ddee8bf5-7349-4faa-b57a-b8c6efb19b85",
     "showTitle": false,
     "tableResultSettingsMap": {},
     "title": ""
    }
   },
   "outputs": [],
   "source": [
    "%sql\n",
    "SELECT * FROM quality_checks\n",
    "WHERE datasource='hos-b'"
   ]
  },
  {
   "cell_type": "code",
   "execution_count": 0,
   "metadata": {
    "application/vnd.databricks.v1+cell": {
     "cellMetadata": {
      "byteLimit": 2048000,
      "implicitDf": true,
      "rowLimit": 10000
     },
     "inputWidgets": {},
     "nuid": "7bd9de0f-e020-40bc-836b-918e7c30c86c",
     "showTitle": false,
     "tableResultSettingsMap": {},
     "title": ""
    }
   },
   "outputs": [],
   "source": [
    "%sql\n",
    "CREATE TABLE IF NOT EXISTS databricks_dev.silver.encounters (\n",
    "  EncounterID string,\n",
    "  SRC_EncounterID string,\n",
    "  PatientID string,\n",
    "  EncounterDate date,\n",
    "  EncounterType string,\n",
    "  ProviderID string,\n",
    "  DepartmentID string,\n",
    "  ProcedureCode integer,\n",
    "  SRC_InsertedDate date,\n",
    "  SRC_ModifiedDate date,\n",
    "  datasource string,\n",
    "  is_quarantined boolean,\n",
    "  audit_insertdate timestamp,\n",
    "  audit_modifieddate timestamp,\n",
    "  is_current boolean\n",
    ")\n",
    "USING DELTA;"
   ]
  },
  {
   "cell_type": "code",
   "execution_count": 0,
   "metadata": {
    "application/vnd.databricks.v1+cell": {
     "cellMetadata": {
      "byteLimit": 2048000,
      "implicitDf": true,
      "rowLimit": 10000
     },
     "inputWidgets": {},
     "nuid": "f9121bb9-4d27-46ef-b52c-ecab59bbe09f",
     "showTitle": false,
     "tableResultSettingsMap": {},
     "title": ""
    }
   },
   "outputs": [],
   "source": [
    "%sql\n",
    "-- Update old record to implement SCD Type 2\n",
    "MERGE INTO databricks_dev.silver.encounters AS target\n",
    "USING quality_checks AS source\n",
    "ON target.EncounterID = source.EncounterID \n",
    "AND target.is_current = true\n",
    "WHEN MATCHED AND (\n",
    "    target.SRC_EncounterID != source.SRC_EncounterID OR\n",
    "    target.PatientID != source.PatientID OR\n",
    "    target.EncounterDate != source.EncounterDate OR\n",
    "    target.EncounterType != source.EncounterType OR\n",
    "    target.ProviderID != source.ProviderID OR\n",
    "    target.DepartmentID != source.DepartmentID OR\n",
    "    target.ProcedureCode != source.ProcedureCode OR\n",
    "    target.SRC_InsertedDate != source.SRC_InsertedDate OR\n",
    "    target.SRC_ModifiedDate != source.SRC_ModifiedDate OR\n",
    "    target.datasource != source.datasource OR\n",
    "    target.is_quarantined != source.is_quarantined\n",
    ") THEN\n",
    "  UPDATE SET\n",
    "    target.is_current = false,\n",
    "    target.audit_modifieddate = current_timestamp()"
   ]
  },
  {
   "cell_type": "code",
   "execution_count": 0,
   "metadata": {
    "application/vnd.databricks.v1+cell": {
     "cellMetadata": {
      "byteLimit": 2048000,
      "implicitDf": true,
      "rowLimit": 10000
     },
     "inputWidgets": {},
     "nuid": "b678b9c8-77d4-4ad3-8d75-75fa97988a2a",
     "showTitle": false,
     "tableResultSettingsMap": {},
     "title": ""
    }
   },
   "outputs": [],
   "source": [
    "%sql\n",
    "-- Insert new record to implement SCD Type 2\n",
    "MERGE INTO databricks_dev.silver.encounters AS target \n",
    "USING quality_checks AS source \n",
    "ON target.EncounterID = source.EncounterID\n",
    "AND target.is_current = true\n",
    "WHEN NOT MATCHED THEN\n",
    "INSERT\n",
    "  (\n",
    "    EncounterID,\n",
    "    SRC_EncounterID,\n",
    "    PatientID,\n",
    "    EncounterDate,\n",
    "    EncounterType,\n",
    "    ProviderID,\n",
    "    DepartmentID,\n",
    "    ProcedureCode,\n",
    "    SRC_InsertedDate,\n",
    "    SRC_ModifiedDate,\n",
    "    datasource,\n",
    "    is_quarantined,\n",
    "    audit_insertdate,\n",
    "    audit_modifieddate,\n",
    "    is_current\n",
    "  )\n",
    "VALUES\n",
    "  (\n",
    "    source.EncounterID,\n",
    "    source.SRC_EncounterID,\n",
    "    source.PatientID,\n",
    "    source.EncounterDate,\n",
    "    source.EncounterType,\n",
    "    source.ProviderID,\n",
    "    source.DepartmentID,\n",
    "    source.ProcedureCode,\n",
    "    source.SRC_InsertedDate,\n",
    "    source.SRC_ModifiedDate,\n",
    "    source.datasource,\n",
    "    source.is_quarantined,\n",
    "    current_timestamp(),\n",
    "    current_timestamp(),\n",
    "    true\n",
    "  );"
   ]
  },
  {
   "cell_type": "code",
   "execution_count": 0,
   "metadata": {
    "application/vnd.databricks.v1+cell": {
     "cellMetadata": {},
     "inputWidgets": {},
     "nuid": "4bbf9c2b-418d-4cb0-b6ac-9b3cb34ffc01",
     "showTitle": false,
     "tableResultSettingsMap": {},
     "title": ""
    }
   },
   "outputs": [],
   "source": []
  }
 ],
 "metadata": {
  "application/vnd.databricks.v1+notebook": {
   "computePreferences": null,
   "dashboards": [],
   "environmentMetadata": {
    "base_environment": "",
    "environment_version": "2"
   },
   "inputWidgetPreferences": null,
   "language": "python",
   "notebookMetadata": {
    "mostRecentlyExecutedCommandWithImplicitDF": {
     "commandId": 8650531987417606,
     "dataframes": [
      "_sqldf"
     ]
    },
    "pythonIndentUnit": 4
   },
   "notebookName": "Encounters",
   "widgets": {}
  },
  "language_info": {
   "name": "python"
  }
 },
 "nbformat": 4,
 "nbformat_minor": 0
}
